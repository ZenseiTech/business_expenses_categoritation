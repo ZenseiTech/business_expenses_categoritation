{
  "cells": [
    {
      "cell_type": "markdown",
      "metadata": {
        "id": "F0Rncft5N164"
      },
      "source": [
        "## Importing the libraries"
      ]
    },
    {
      "cell_type": "code",
      "execution_count": 60,
      "metadata": {
        "id": "K3paLj2NN9to"
      },
      "outputs": [],
      "source": [
        "import pandas as pd\n",
        "import numpy as np\n",
        "from sklearn import preprocessing\n",
        "from sklearn.feature_extraction.text import TfidfVectorizer"
      ]
    },
    {
      "cell_type": "code",
      "execution_count": 61,
      "metadata": {},
      "outputs": [],
      "source": [
        "INPUT_FILE = 'summary_input.csv'\n",
        "OUTPUT_FILE = 'summary_result.csv'\n",
        "TRANSACTION_COLUMN = 'Transaction'\n",
        "CATEGORY_COLUMN = 'Category'\n",
        "LABEL_COLUMN = 'Label'"
      ]
    },
    {
      "cell_type": "markdown",
      "metadata": {
        "id": "pTmI-J43OTRf"
      },
      "source": [
        "### Import Dataset"
      ]
    },
    {
      "cell_type": "code",
      "execution_count": 62,
      "metadata": {
        "colab": {
          "base_uri": "https://localhost:8080/"
        },
        "id": "h9sOW0RfOdG5",
        "outputId": "6839a94e-706e-467e-8c8a-9466be1bdb76"
      },
      "outputs": [
        {
          "name": "stdout",
          "output_type": "stream",
          "text": [
            "                     Transaction        Category\n",
            "0      PETROCAN-2100 BURNHAMTHOR  TRANSPORTATION\n",
            "1         TOMO SUSHI MISSISSAUGA            FOOD\n",
            "2         TOMO SUSHI MISSISSAUGA            FOOD\n",
            "3  PIZZA PIZZA # 266 MISSISSAUGA            FOOD\n",
            "4        BAR BURRITO MISSISSAUGA            FOOD\n"
          ]
        }
      ],
      "source": [
        "# Just make sure the columns 'Transaction' and 'Category' exist. Otherwise you need to change the code\n",
        "dataset = pd.read_csv(INPUT_FILE)\n",
        "\n",
        "print(dataset.head())"
      ]
    },
    {
      "cell_type": "markdown",
      "metadata": {
        "id": "hAo1jYqUt-4l"
      },
      "source": [
        "# Preprocessing"
      ]
    },
    {
      "cell_type": "markdown",
      "metadata": {
        "id": "4H7jy5vuPX_c"
      },
      "source": [
        "### Data cleaning"
      ]
    },
    {
      "cell_type": "code",
      "execution_count": 63,
      "metadata": {
        "colab": {
          "base_uri": "https://localhost:8080/"
        },
        "id": "KNg8jfihQqOY",
        "outputId": "c1f0460a-a4c1-471b-f1b6-cbb57587bdc7"
      },
      "outputs": [
        {
          "name": "stdout",
          "output_type": "stream",
          "text": [
            "<class 'pandas.core.frame.DataFrame'>\n",
            "RangeIndex: 100 entries, 0 to 99\n",
            "Data columns (total 2 columns):\n",
            " #   Column       Non-Null Count  Dtype \n",
            "---  ------       --------------  ----- \n",
            " 0   Transaction  100 non-null    object\n",
            " 1   Category     99 non-null     object\n",
            "dtypes: object(2)\n",
            "memory usage: 1.7+ KB\n"
          ]
        }
      ],
      "source": [
        "dataset.info()"
      ]
    },
    {
      "cell_type": "code",
      "execution_count": 64,
      "metadata": {
        "colab": {
          "base_uri": "https://localhost:8080/"
        },
        "id": "jjzukMM7WAm3",
        "outputId": "014527fc-9a97-4636-8d84-3be31d01cda3"
      },
      "outputs": [
        {
          "data": {
            "text/plain": [
              "Transaction    0\n",
              "Category       1\n",
              "dtype: int64"
            ]
          },
          "execution_count": 64,
          "metadata": {},
          "output_type": "execute_result"
        }
      ],
      "source": [
        "# find out is there is any null values\n",
        "dataset.isna().sum()"
      ]
    },
    {
      "cell_type": "code",
      "execution_count": 65,
      "metadata": {
        "id": "kkeSgsvmWGTm"
      },
      "outputs": [],
      "source": [
        "# if there is any null values, the call below will elminate those rows\n",
        "dataset = dataset.dropna()"
      ]
    },
    {
      "cell_type": "code",
      "execution_count": 66,
      "metadata": {
        "colab": {
          "base_uri": "https://localhost:8080/"
        },
        "id": "OMGCbAxytzNl",
        "outputId": "a5bfb119-fbc2-4661-9a41-bfbd75e4124a"
      },
      "outputs": [
        {
          "data": {
            "text/plain": [
              "Transaction    0\n",
              "Category       0\n",
              "dtype: int64"
            ]
          },
          "execution_count": 66,
          "metadata": {},
          "output_type": "execute_result"
        }
      ],
      "source": [
        "# check after cleaning for null values\n",
        "dataset.isna().sum()"
      ]
    },
    {
      "cell_type": "code",
      "execution_count": 67,
      "metadata": {},
      "outputs": [
        {
          "name": "stdout",
          "output_type": "stream",
          "text": [
            "Transaction\n",
            "ANNUAL FEE                        1\n",
            "SUNOCO 0442552600 CANANDAIGUA     1\n",
            "PIZZA PIZZA # 266 MISSISSAUGA     1\n",
            "SHELL C20130 MISSISSAUGA          1\n",
            "TIM HORTONS #6010 TORONTO         1\n",
            "PETROCAN-1405 SOUTHDOWN R         1\n",
            "SITEPOINT WWW.SITEPOIN            1\n",
            "Subway 33041 Mississauga          1\n",
            "EXXON SUN FARMINGTON              1\n",
            "PETROCAN-3990 EGLINTON AV         1\n",
            "NEW WOK NEW WOK TORONTO           1\n",
            "CASH ADVANCE FEE                  1\n",
            "PETRO CANADA00453 MISSISSAUGA     1\n",
            "GLEN ERIN ESSO MISSISSAUGA        1\n",
            "SYSTEM76 Y7Q45 SYSTEM76.COM       1\n",
            "PETRO CANADA05618 MISSISSAUGA     1\n",
            "RETAIL INTEREST                   1\n",
            "MOBIL@ - 4372 MISSISSAUGA         1\n",
            "MIFUEL #878 MISSISSAUGA           1\n",
            "AMZN Mktp CA*AN5XM39E3            1\n",
            "ENBRIDGE GAS H6Z9A7               1\n",
            "APPLE.COM/CA 800-676-2775         1\n",
            "TIM HORTONS #5795 TORONTO         1\n",
            "ENERSOURCE   L6Y9Q2               1\n",
            "TIM HORTONS #1431 OAKVILLE        2\n",
            "SUBARU FINANCE                    2\n",
            "CASH INTEREST                     2\n",
            "PETRO CANADA00475 MISSISSAUGA     2\n",
            "PFAFF BMW MISSISSAUGA             2\n",
            "PETROCAN-2100 BURNHAMTHOR         2\n",
            "BAR BURRITO MISSISSAUGA           3\n",
            "COBS BREAD # 9321 MISSISSAUGA     3\n",
            "CODE WITH MOSH TEACHABLE.CO       3\n",
            "PETROCAN-4140ERINMILLS PK         3\n",
            "MANULIFE         MSP              4\n",
            "TIM HORTONS #2037 MISSISSAUGA     8\n",
            "BELL CANADA (OB) MONTREAL        11\n",
            "FREEDOM MOBILE 877-946-3184      11\n",
            "TOMO SUSHI MISSISSAUGA           17\n",
            "Name: count, dtype: int64\n"
          ]
        }
      ],
      "source": [
        "# Some transactions which only 1 unique count may not be enough for the model to learn\n",
        "# add more rows (a least 2 more) for those unique values to the data ...\n",
        "item_counts = dataset[TRANSACTION_COLUMN].value_counts()\n",
        "print(item_counts.sort_values(ascending=True))\n",
        "\n",
        "# Count unique values in column 'Transaction'\n",
        "value_counts_trans = dataset[TRANSACTION_COLUMN].value_counts()\n",
        "\n",
        "# Filter DataFrame based on the count of unique values in column 'Transaction'\n",
        "filtered_df = dataset[dataset[TRANSACTION_COLUMN].isin(value_counts_trans.index[value_counts_trans < 2])]\n",
        "\n",
        "# print(filtered_df)"
      ]
    },
    {
      "cell_type": "code",
      "execution_count": 68,
      "metadata": {
        "colab": {
          "base_uri": "https://localhost:8080/"
        },
        "id": "K-If90giQvpv",
        "outputId": "f1b7ffb2-0dfb-4c9e-9454-7689f4c71164"
      },
      "outputs": [
        {
          "name": "stdout",
          "output_type": "stream",
          "text": [
            "                      Transaction        Category\n",
            "0       PETROCAN-2100 BURNHAMTHOR  TRANSPORTATION\n",
            "1          TOMO SUSHI MISSISSAUGA            FOOD\n",
            "2          TOMO SUSHI MISSISSAUGA            FOOD\n",
            "3   PIZZA PIZZA # 266 MISSISSAUGA            FOOD\n",
            "4         BAR BURRITO MISSISSAUGA            FOOD\n",
            "..                            ...             ...\n",
            "95              ENERSOURCE L6Y9Q2         Utility\n",
            "96            ENBRIDGE GAS H6Z9A7         Utility\n",
            "97                 SUBARU FINANCE      Rent/Lease\n",
            "98                 SUBARU FINANCE      Rent/Lease\n",
            "99                   MANULIFE MSP  Life Insurance\n",
            "\n",
            "[99 rows x 2 columns]\n"
          ]
        }
      ],
      "source": [
        "# remove space in column values\n",
        "import re\n",
        "\n",
        "dataset[TRANSACTION_COLUMN] = dataset[TRANSACTION_COLUMN].str.strip().replace('\\s+', ' ', regex=True)\n",
        "dataset[CATEGORY_COLUMN] = dataset[CATEGORY_COLUMN].str.strip().replace('\\s+', ' ', regex=True)\n",
        "\n",
        "print(dataset)\n"
      ]
    },
    {
      "cell_type": "code",
      "execution_count": 69,
      "metadata": {
        "colab": {
          "base_uri": "https://localhost:8080/"
        },
        "id": "DbdDtiEtSdkg",
        "outputId": "5e0699f5-10c5-46d0-8bae-5b0fb2fbbb70"
      },
      "outputs": [
        {
          "data": {
            "text/plain": [
              "array(['TRANSPORTATION', 'FOOD', 'CELL PHONE', 'OFFICE', 'INTERNET',\n",
              "       'EDUCATION', 'BANK FEE', 'Life Insurance', 'Utility', 'Rent/Lease'],\n",
              "      dtype=object)"
            ]
          },
          "execution_count": 69,
          "metadata": {},
          "output_type": "execute_result"
        }
      ],
      "source": [
        "dataset[CATEGORY_COLUMN].unique()"
      ]
    },
    {
      "cell_type": "markdown",
      "metadata": {
        "id": "njGgyG4WXEGI"
      },
      "source": [
        "### Label encoding"
      ]
    },
    {
      "cell_type": "code",
      "execution_count": 70,
      "metadata": {
        "colab": {
          "base_uri": "https://localhost:8080/"
        },
        "id": "Q3x-lb5QSiaW",
        "outputId": "42af600b-a580-4532-f200-b8e136ee3d02"
      },
      "outputs": [],
      "source": [
        "# Label encoding and create a new column with the encoded data\n",
        "label_encoder = preprocessing.LabelEncoder()\n",
        "label_encoder.fit(dataset[CATEGORY_COLUMN])\n",
        "# create new column with the encoded values\n",
        "dataset[LABEL_COLUMN] = label_encoder.transform(dataset[CATEGORY_COLUMN])"
      ]
    },
    {
      "cell_type": "code",
      "execution_count": 71,
      "metadata": {
        "colab": {
          "base_uri": "https://localhost:8080/",
          "height": 206
        },
        "id": "Saj9_Aw0XRvw",
        "outputId": "cdd34e9f-2118-400e-9547-ef3dd5bf0ef0"
      },
      "outputs": [
        {
          "data": {
            "text/html": [
              "<div>\n",
              "<style scoped>\n",
              "    .dataframe tbody tr th:only-of-type {\n",
              "        vertical-align: middle;\n",
              "    }\n",
              "\n",
              "    .dataframe tbody tr th {\n",
              "        vertical-align: top;\n",
              "    }\n",
              "\n",
              "    .dataframe thead th {\n",
              "        text-align: right;\n",
              "    }\n",
              "</style>\n",
              "<table border=\"1\" class=\"dataframe\">\n",
              "  <thead>\n",
              "    <tr style=\"text-align: right;\">\n",
              "      <th></th>\n",
              "      <th>Transaction</th>\n",
              "      <th>Category</th>\n",
              "      <th>Label</th>\n",
              "    </tr>\n",
              "  </thead>\n",
              "  <tbody>\n",
              "    <tr>\n",
              "      <th>95</th>\n",
              "      <td>ENERSOURCE L6Y9Q2</td>\n",
              "      <td>Utility</td>\n",
              "      <td>9</td>\n",
              "    </tr>\n",
              "    <tr>\n",
              "      <th>96</th>\n",
              "      <td>ENBRIDGE GAS H6Z9A7</td>\n",
              "      <td>Utility</td>\n",
              "      <td>9</td>\n",
              "    </tr>\n",
              "    <tr>\n",
              "      <th>97</th>\n",
              "      <td>SUBARU FINANCE</td>\n",
              "      <td>Rent/Lease</td>\n",
              "      <td>7</td>\n",
              "    </tr>\n",
              "    <tr>\n",
              "      <th>98</th>\n",
              "      <td>SUBARU FINANCE</td>\n",
              "      <td>Rent/Lease</td>\n",
              "      <td>7</td>\n",
              "    </tr>\n",
              "    <tr>\n",
              "      <th>99</th>\n",
              "      <td>MANULIFE MSP</td>\n",
              "      <td>Life Insurance</td>\n",
              "      <td>5</td>\n",
              "    </tr>\n",
              "  </tbody>\n",
              "</table>\n",
              "</div>"
            ],
            "text/plain": [
              "            Transaction        Category  Label\n",
              "95    ENERSOURCE L6Y9Q2         Utility      9\n",
              "96  ENBRIDGE GAS H6Z9A7         Utility      9\n",
              "97       SUBARU FINANCE      Rent/Lease      7\n",
              "98       SUBARU FINANCE      Rent/Lease      7\n",
              "99         MANULIFE MSP  Life Insurance      5"
            ]
          },
          "execution_count": 71,
          "metadata": {},
          "output_type": "execute_result"
        }
      ],
      "source": [
        "dataset.tail()"
      ]
    },
    {
      "cell_type": "markdown",
      "metadata": {
        "id": "Zo5DTGkIucPZ"
      },
      "source": [
        "### Creating the feature and dependent variables"
      ]
    },
    {
      "cell_type": "code",
      "execution_count": 72,
      "metadata": {
        "id": "G8knNNc7YMu2"
      },
      "outputs": [],
      "source": [
        "X = dataset[TRANSACTION_COLUMN]\n",
        "y = dataset[LABEL_COLUMN]"
      ]
    },
    {
      "cell_type": "markdown",
      "metadata": {
        "id": "ZvM7AADorLT8"
      },
      "source": [
        "### Creating the Bag of Words model"
      ]
    },
    {
      "cell_type": "code",
      "execution_count": 73,
      "metadata": {
        "id": "HFX6WfkhYhTY"
      },
      "outputs": [],
      "source": [
        "vectorizer = TfidfVectorizer(stop_words='english', max_features=1000)\n",
        "vectorized_X = vectorizer.fit_transform(X)"
      ]
    },
    {
      "cell_type": "markdown",
      "metadata": {
        "id": "DbnSMnWdZV4l"
      },
      "source": [
        "### Split training and test sets"
      ]
    },
    {
      "cell_type": "code",
      "execution_count": 74,
      "metadata": {
        "id": "JcwA2n9VY7iG"
      },
      "outputs": [],
      "source": [
        "from sklearn.model_selection import train_test_split\n",
        "X_train, X_test, y_train, y_test = train_test_split(vectorized_X, y, test_size = 0.20, random_state = 0)"
      ]
    },
    {
      "cell_type": "code",
      "execution_count": 75,
      "metadata": {
        "colab": {
          "base_uri": "https://localhost:8080/"
        },
        "id": "RwxZj8SXZCY-",
        "outputId": "0e1ac2bf-8c36-4cd5-ce58-72261a8f6812"
      },
      "outputs": [
        {
          "name": "stdout",
          "output_type": "stream",
          "text": [
            "  (0, 7)\t0.4472135954999579\n",
            "  (0, 19)\t0.4472135954999579\n",
            "  (0, 16)\t0.4472135954999579\n",
            "  (0, 63)\t0.4472135954999579\n",
            "  (0, 52)\t0.4472135954999579\n",
            "  (1, 60)\t0.42854038388020804\n",
            "  (1, 84)\t0.6388869772439425\n",
            "  (1, 88)\t0.6388869772439425\n",
            "  (2, 5)\t0.4411912904654138\n",
            "  (2, 73)\t0.8823825809308276\n",
            "  (2, 60)\t0.1635580205533022\n",
            "  (3, 86)\t0.5773502691896257\n",
            "  (3, 65)\t0.5773502691896257\n",
            "  (3, 41)\t0.5773502691896257\n",
            "  (4, 60)\t0.42854038388020804\n",
            "  (4, 84)\t0.6388869772439425\n",
            "  (4, 88)\t0.6388869772439425\n",
            "  (5, 74)\t0.6087610104583493\n",
            "  (5, 10)\t0.6087610104583493\n",
            "  (5, 71)\t0.5087436135141739\n",
            "  (6, 74)\t0.6087610104583493\n",
            "  (6, 10)\t0.6087610104583493\n",
            "  (6, 71)\t0.5087436135141739\n",
            "  (7, 66)\t0.7071067811865476\n",
            "  (7, 58)\t0.7071067811865476\n",
            "  :\t:\n",
            "  (72, 3)\t0.5895433653453508\n",
            "  (72, 56)\t0.5259303476241797\n",
            "  (72, 87)\t0.5259303476241797\n",
            "  (72, 60)\t0.31501295096090465\n",
            "  (73, 89)\t0.5427906691887742\n",
            "  (73, 13)\t0.6319693598164365\n",
            "  (73, 56)\t0.39114768163368047\n",
            "  (73, 87)\t0.39114768163368047\n",
            "  (74, 55)\t0.5773502691896258\n",
            "  (74, 53)\t0.5773502691896258\n",
            "  (74, 44)\t0.5773502691896258\n",
            "  (75, 60)\t0.42854038388020804\n",
            "  (75, 84)\t0.6388869772439425\n",
            "  (75, 88)\t0.6388869772439425\n",
            "  (76, 25)\t0.5333654716499561\n",
            "  (76, 43)\t0.5333654716499561\n",
            "  (76, 9)\t0.5333654716499561\n",
            "  (76, 71)\t0.38283654600215433\n",
            "  (77, 60)\t0.42854038388020804\n",
            "  (77, 84)\t0.6388869772439425\n",
            "  (77, 88)\t0.6388869772439425\n",
            "  (78, 47)\t0.5645634990264987\n",
            "  (78, 46)\t0.5645634990264987\n",
            "  (78, 54)\t0.5645634990264987\n",
            "  (78, 60)\t0.2092944497612629\n",
            "\n",
            "43    1\n",
            "63    3\n",
            "3     3\n",
            "72    2\n",
            "45    3\n",
            "     ..\n",
            "96    9\n",
            "68    3\n",
            "65    8\n",
            "47    3\n",
            "44    8\n",
            "Name: Label, Length: 79, dtype: int64\n"
          ]
        }
      ],
      "source": [
        "print(X_train)\n",
        "print()\n",
        "print(y_train)"
      ]
    },
    {
      "cell_type": "markdown",
      "metadata": {
        "id": "cdocx4O4ZpQ9"
      },
      "source": [
        "### Training the model"
      ]
    },
    {
      "cell_type": "code",
      "execution_count": 76,
      "metadata": {
        "colab": {
          "base_uri": "https://localhost:8080/",
          "height": 75
        },
        "id": "_Fc82bKVZkvt",
        "outputId": "1617bfe4-4e9d-400b-ce95-45363c3db726"
      },
      "outputs": [
        {
          "data": {
            "text/html": [
              "<style>#sk-container-id-3 {\n",
              "  /* Definition of color scheme common for light and dark mode */\n",
              "  --sklearn-color-text: black;\n",
              "  --sklearn-color-line: gray;\n",
              "  /* Definition of color scheme for unfitted estimators */\n",
              "  --sklearn-color-unfitted-level-0: #fff5e6;\n",
              "  --sklearn-color-unfitted-level-1: #f6e4d2;\n",
              "  --sklearn-color-unfitted-level-2: #ffe0b3;\n",
              "  --sklearn-color-unfitted-level-3: chocolate;\n",
              "  /* Definition of color scheme for fitted estimators */\n",
              "  --sklearn-color-fitted-level-0: #f0f8ff;\n",
              "  --sklearn-color-fitted-level-1: #d4ebff;\n",
              "  --sklearn-color-fitted-level-2: #b3dbfd;\n",
              "  --sklearn-color-fitted-level-3: cornflowerblue;\n",
              "\n",
              "  /* Specific color for light theme */\n",
              "  --sklearn-color-text-on-default-background: var(--sg-text-color, var(--theme-code-foreground, var(--jp-content-font-color1, black)));\n",
              "  --sklearn-color-background: var(--sg-background-color, var(--theme-background, var(--jp-layout-color0, white)));\n",
              "  --sklearn-color-border-box: var(--sg-text-color, var(--theme-code-foreground, var(--jp-content-font-color1, black)));\n",
              "  --sklearn-color-icon: #696969;\n",
              "\n",
              "  @media (prefers-color-scheme: dark) {\n",
              "    /* Redefinition of color scheme for dark theme */\n",
              "    --sklearn-color-text-on-default-background: var(--sg-text-color, var(--theme-code-foreground, var(--jp-content-font-color1, white)));\n",
              "    --sklearn-color-background: var(--sg-background-color, var(--theme-background, var(--jp-layout-color0, #111)));\n",
              "    --sklearn-color-border-box: var(--sg-text-color, var(--theme-code-foreground, var(--jp-content-font-color1, white)));\n",
              "    --sklearn-color-icon: #878787;\n",
              "  }\n",
              "}\n",
              "\n",
              "#sk-container-id-3 {\n",
              "  color: var(--sklearn-color-text);\n",
              "}\n",
              "\n",
              "#sk-container-id-3 pre {\n",
              "  padding: 0;\n",
              "}\n",
              "\n",
              "#sk-container-id-3 input.sk-hidden--visually {\n",
              "  border: 0;\n",
              "  clip: rect(1px 1px 1px 1px);\n",
              "  clip: rect(1px, 1px, 1px, 1px);\n",
              "  height: 1px;\n",
              "  margin: -1px;\n",
              "  overflow: hidden;\n",
              "  padding: 0;\n",
              "  position: absolute;\n",
              "  width: 1px;\n",
              "}\n",
              "\n",
              "#sk-container-id-3 div.sk-dashed-wrapped {\n",
              "  border: 1px dashed var(--sklearn-color-line);\n",
              "  margin: 0 0.4em 0.5em 0.4em;\n",
              "  box-sizing: border-box;\n",
              "  padding-bottom: 0.4em;\n",
              "  background-color: var(--sklearn-color-background);\n",
              "}\n",
              "\n",
              "#sk-container-id-3 div.sk-container {\n",
              "  /* jupyter's `normalize.less` sets `[hidden] { display: none; }`\n",
              "     but bootstrap.min.css set `[hidden] { display: none !important; }`\n",
              "     so we also need the `!important` here to be able to override the\n",
              "     default hidden behavior on the sphinx rendered scikit-learn.org.\n",
              "     See: https://github.com/scikit-learn/scikit-learn/issues/21755 */\n",
              "  display: inline-block !important;\n",
              "  position: relative;\n",
              "}\n",
              "\n",
              "#sk-container-id-3 div.sk-text-repr-fallback {\n",
              "  display: none;\n",
              "}\n",
              "\n",
              "div.sk-parallel-item,\n",
              "div.sk-serial,\n",
              "div.sk-item {\n",
              "  /* draw centered vertical line to link estimators */\n",
              "  background-image: linear-gradient(var(--sklearn-color-text-on-default-background), var(--sklearn-color-text-on-default-background));\n",
              "  background-size: 2px 100%;\n",
              "  background-repeat: no-repeat;\n",
              "  background-position: center center;\n",
              "}\n",
              "\n",
              "/* Parallel-specific style estimator block */\n",
              "\n",
              "#sk-container-id-3 div.sk-parallel-item::after {\n",
              "  content: \"\";\n",
              "  width: 100%;\n",
              "  border-bottom: 2px solid var(--sklearn-color-text-on-default-background);\n",
              "  flex-grow: 1;\n",
              "}\n",
              "\n",
              "#sk-container-id-3 div.sk-parallel {\n",
              "  display: flex;\n",
              "  align-items: stretch;\n",
              "  justify-content: center;\n",
              "  background-color: var(--sklearn-color-background);\n",
              "  position: relative;\n",
              "}\n",
              "\n",
              "#sk-container-id-3 div.sk-parallel-item {\n",
              "  display: flex;\n",
              "  flex-direction: column;\n",
              "}\n",
              "\n",
              "#sk-container-id-3 div.sk-parallel-item:first-child::after {\n",
              "  align-self: flex-end;\n",
              "  width: 50%;\n",
              "}\n",
              "\n",
              "#sk-container-id-3 div.sk-parallel-item:last-child::after {\n",
              "  align-self: flex-start;\n",
              "  width: 50%;\n",
              "}\n",
              "\n",
              "#sk-container-id-3 div.sk-parallel-item:only-child::after {\n",
              "  width: 0;\n",
              "}\n",
              "\n",
              "/* Serial-specific style estimator block */\n",
              "\n",
              "#sk-container-id-3 div.sk-serial {\n",
              "  display: flex;\n",
              "  flex-direction: column;\n",
              "  align-items: center;\n",
              "  background-color: var(--sklearn-color-background);\n",
              "  padding-right: 1em;\n",
              "  padding-left: 1em;\n",
              "}\n",
              "\n",
              "\n",
              "/* Toggleable style: style used for estimator/Pipeline/ColumnTransformer box that is\n",
              "clickable and can be expanded/collapsed.\n",
              "- Pipeline and ColumnTransformer use this feature and define the default style\n",
              "- Estimators will overwrite some part of the style using the `sk-estimator` class\n",
              "*/\n",
              "\n",
              "/* Pipeline and ColumnTransformer style (default) */\n",
              "\n",
              "#sk-container-id-3 div.sk-toggleable {\n",
              "  /* Default theme specific background. It is overwritten whether we have a\n",
              "  specific estimator or a Pipeline/ColumnTransformer */\n",
              "  background-color: var(--sklearn-color-background);\n",
              "}\n",
              "\n",
              "/* Toggleable label */\n",
              "#sk-container-id-3 label.sk-toggleable__label {\n",
              "  cursor: pointer;\n",
              "  display: block;\n",
              "  width: 100%;\n",
              "  margin-bottom: 0;\n",
              "  padding: 0.5em;\n",
              "  box-sizing: border-box;\n",
              "  text-align: center;\n",
              "}\n",
              "\n",
              "#sk-container-id-3 label.sk-toggleable__label-arrow:before {\n",
              "  /* Arrow on the left of the label */\n",
              "  content: \"▸\";\n",
              "  float: left;\n",
              "  margin-right: 0.25em;\n",
              "  color: var(--sklearn-color-icon);\n",
              "}\n",
              "\n",
              "#sk-container-id-3 label.sk-toggleable__label-arrow:hover:before {\n",
              "  color: var(--sklearn-color-text);\n",
              "}\n",
              "\n",
              "/* Toggleable content - dropdown */\n",
              "\n",
              "#sk-container-id-3 div.sk-toggleable__content {\n",
              "  max-height: 0;\n",
              "  max-width: 0;\n",
              "  overflow: hidden;\n",
              "  text-align: left;\n",
              "  /* unfitted */\n",
              "  background-color: var(--sklearn-color-unfitted-level-0);\n",
              "}\n",
              "\n",
              "#sk-container-id-3 div.sk-toggleable__content.fitted {\n",
              "  /* fitted */\n",
              "  background-color: var(--sklearn-color-fitted-level-0);\n",
              "}\n",
              "\n",
              "#sk-container-id-3 div.sk-toggleable__content pre {\n",
              "  margin: 0.2em;\n",
              "  border-radius: 0.25em;\n",
              "  color: var(--sklearn-color-text);\n",
              "  /* unfitted */\n",
              "  background-color: var(--sklearn-color-unfitted-level-0);\n",
              "}\n",
              "\n",
              "#sk-container-id-3 div.sk-toggleable__content.fitted pre {\n",
              "  /* unfitted */\n",
              "  background-color: var(--sklearn-color-fitted-level-0);\n",
              "}\n",
              "\n",
              "#sk-container-id-3 input.sk-toggleable__control:checked~div.sk-toggleable__content {\n",
              "  /* Expand drop-down */\n",
              "  max-height: 200px;\n",
              "  max-width: 100%;\n",
              "  overflow: auto;\n",
              "}\n",
              "\n",
              "#sk-container-id-3 input.sk-toggleable__control:checked~label.sk-toggleable__label-arrow:before {\n",
              "  content: \"▾\";\n",
              "}\n",
              "\n",
              "/* Pipeline/ColumnTransformer-specific style */\n",
              "\n",
              "#sk-container-id-3 div.sk-label input.sk-toggleable__control:checked~label.sk-toggleable__label {\n",
              "  color: var(--sklearn-color-text);\n",
              "  background-color: var(--sklearn-color-unfitted-level-2);\n",
              "}\n",
              "\n",
              "#sk-container-id-3 div.sk-label.fitted input.sk-toggleable__control:checked~label.sk-toggleable__label {\n",
              "  background-color: var(--sklearn-color-fitted-level-2);\n",
              "}\n",
              "\n",
              "/* Estimator-specific style */\n",
              "\n",
              "/* Colorize estimator box */\n",
              "#sk-container-id-3 div.sk-estimator input.sk-toggleable__control:checked~label.sk-toggleable__label {\n",
              "  /* unfitted */\n",
              "  background-color: var(--sklearn-color-unfitted-level-2);\n",
              "}\n",
              "\n",
              "#sk-container-id-3 div.sk-estimator.fitted input.sk-toggleable__control:checked~label.sk-toggleable__label {\n",
              "  /* fitted */\n",
              "  background-color: var(--sklearn-color-fitted-level-2);\n",
              "}\n",
              "\n",
              "#sk-container-id-3 div.sk-label label.sk-toggleable__label,\n",
              "#sk-container-id-3 div.sk-label label {\n",
              "  /* The background is the default theme color */\n",
              "  color: var(--sklearn-color-text-on-default-background);\n",
              "}\n",
              "\n",
              "/* On hover, darken the color of the background */\n",
              "#sk-container-id-3 div.sk-label:hover label.sk-toggleable__label {\n",
              "  color: var(--sklearn-color-text);\n",
              "  background-color: var(--sklearn-color-unfitted-level-2);\n",
              "}\n",
              "\n",
              "/* Label box, darken color on hover, fitted */\n",
              "#sk-container-id-3 div.sk-label.fitted:hover label.sk-toggleable__label.fitted {\n",
              "  color: var(--sklearn-color-text);\n",
              "  background-color: var(--sklearn-color-fitted-level-2);\n",
              "}\n",
              "\n",
              "/* Estimator label */\n",
              "\n",
              "#sk-container-id-3 div.sk-label label {\n",
              "  font-family: monospace;\n",
              "  font-weight: bold;\n",
              "  display: inline-block;\n",
              "  line-height: 1.2em;\n",
              "}\n",
              "\n",
              "#sk-container-id-3 div.sk-label-container {\n",
              "  text-align: center;\n",
              "}\n",
              "\n",
              "/* Estimator-specific */\n",
              "#sk-container-id-3 div.sk-estimator {\n",
              "  font-family: monospace;\n",
              "  border: 1px dotted var(--sklearn-color-border-box);\n",
              "  border-radius: 0.25em;\n",
              "  box-sizing: border-box;\n",
              "  margin-bottom: 0.5em;\n",
              "  /* unfitted */\n",
              "  background-color: var(--sklearn-color-unfitted-level-0);\n",
              "}\n",
              "\n",
              "#sk-container-id-3 div.sk-estimator.fitted {\n",
              "  /* fitted */\n",
              "  background-color: var(--sklearn-color-fitted-level-0);\n",
              "}\n",
              "\n",
              "/* on hover */\n",
              "#sk-container-id-3 div.sk-estimator:hover {\n",
              "  /* unfitted */\n",
              "  background-color: var(--sklearn-color-unfitted-level-2);\n",
              "}\n",
              "\n",
              "#sk-container-id-3 div.sk-estimator.fitted:hover {\n",
              "  /* fitted */\n",
              "  background-color: var(--sklearn-color-fitted-level-2);\n",
              "}\n",
              "\n",
              "/* Specification for estimator info (e.g. \"i\" and \"?\") */\n",
              "\n",
              "/* Common style for \"i\" and \"?\" */\n",
              "\n",
              ".sk-estimator-doc-link,\n",
              "a:link.sk-estimator-doc-link,\n",
              "a:visited.sk-estimator-doc-link {\n",
              "  float: right;\n",
              "  font-size: smaller;\n",
              "  line-height: 1em;\n",
              "  font-family: monospace;\n",
              "  background-color: var(--sklearn-color-background);\n",
              "  border-radius: 1em;\n",
              "  height: 1em;\n",
              "  width: 1em;\n",
              "  text-decoration: none !important;\n",
              "  margin-left: 1ex;\n",
              "  /* unfitted */\n",
              "  border: var(--sklearn-color-unfitted-level-1) 1pt solid;\n",
              "  color: var(--sklearn-color-unfitted-level-1);\n",
              "}\n",
              "\n",
              ".sk-estimator-doc-link.fitted,\n",
              "a:link.sk-estimator-doc-link.fitted,\n",
              "a:visited.sk-estimator-doc-link.fitted {\n",
              "  /* fitted */\n",
              "  border: var(--sklearn-color-fitted-level-1) 1pt solid;\n",
              "  color: var(--sklearn-color-fitted-level-1);\n",
              "}\n",
              "\n",
              "/* On hover */\n",
              "div.sk-estimator:hover .sk-estimator-doc-link:hover,\n",
              ".sk-estimator-doc-link:hover,\n",
              "div.sk-label-container:hover .sk-estimator-doc-link:hover,\n",
              ".sk-estimator-doc-link:hover {\n",
              "  /* unfitted */\n",
              "  background-color: var(--sklearn-color-unfitted-level-3);\n",
              "  color: var(--sklearn-color-background);\n",
              "  text-decoration: none;\n",
              "}\n",
              "\n",
              "div.sk-estimator.fitted:hover .sk-estimator-doc-link.fitted:hover,\n",
              ".sk-estimator-doc-link.fitted:hover,\n",
              "div.sk-label-container:hover .sk-estimator-doc-link.fitted:hover,\n",
              ".sk-estimator-doc-link.fitted:hover {\n",
              "  /* fitted */\n",
              "  background-color: var(--sklearn-color-fitted-level-3);\n",
              "  color: var(--sklearn-color-background);\n",
              "  text-decoration: none;\n",
              "}\n",
              "\n",
              "/* Span, style for the box shown on hovering the info icon */\n",
              ".sk-estimator-doc-link span {\n",
              "  display: none;\n",
              "  z-index: 9999;\n",
              "  position: relative;\n",
              "  font-weight: normal;\n",
              "  right: .2ex;\n",
              "  padding: .5ex;\n",
              "  margin: .5ex;\n",
              "  width: min-content;\n",
              "  min-width: 20ex;\n",
              "  max-width: 50ex;\n",
              "  color: var(--sklearn-color-text);\n",
              "  box-shadow: 2pt 2pt 4pt #999;\n",
              "  /* unfitted */\n",
              "  background: var(--sklearn-color-unfitted-level-0);\n",
              "  border: .5pt solid var(--sklearn-color-unfitted-level-3);\n",
              "}\n",
              "\n",
              ".sk-estimator-doc-link.fitted span {\n",
              "  /* fitted */\n",
              "  background: var(--sklearn-color-fitted-level-0);\n",
              "  border: var(--sklearn-color-fitted-level-3);\n",
              "}\n",
              "\n",
              ".sk-estimator-doc-link:hover span {\n",
              "  display: block;\n",
              "}\n",
              "\n",
              "/* \"?\"-specific style due to the `<a>` HTML tag */\n",
              "\n",
              "#sk-container-id-3 a.estimator_doc_link {\n",
              "  float: right;\n",
              "  font-size: 1rem;\n",
              "  line-height: 1em;\n",
              "  font-family: monospace;\n",
              "  background-color: var(--sklearn-color-background);\n",
              "  border-radius: 1rem;\n",
              "  height: 1rem;\n",
              "  width: 1rem;\n",
              "  text-decoration: none;\n",
              "  /* unfitted */\n",
              "  color: var(--sklearn-color-unfitted-level-1);\n",
              "  border: var(--sklearn-color-unfitted-level-1) 1pt solid;\n",
              "}\n",
              "\n",
              "#sk-container-id-3 a.estimator_doc_link.fitted {\n",
              "  /* fitted */\n",
              "  border: var(--sklearn-color-fitted-level-1) 1pt solid;\n",
              "  color: var(--sklearn-color-fitted-level-1);\n",
              "}\n",
              "\n",
              "/* On hover */\n",
              "#sk-container-id-3 a.estimator_doc_link:hover {\n",
              "  /* unfitted */\n",
              "  background-color: var(--sklearn-color-unfitted-level-3);\n",
              "  color: var(--sklearn-color-background);\n",
              "  text-decoration: none;\n",
              "}\n",
              "\n",
              "#sk-container-id-3 a.estimator_doc_link.fitted:hover {\n",
              "  /* fitted */\n",
              "  background-color: var(--sklearn-color-fitted-level-3);\n",
              "}\n",
              "</style><div id=\"sk-container-id-3\" class=\"sk-top-container\"><div class=\"sk-text-repr-fallback\"><pre>RandomForestClassifier()</pre><b>In a Jupyter environment, please rerun this cell to show the HTML representation or trust the notebook. <br />On GitHub, the HTML representation is unable to render, please try loading this page with nbviewer.org.</b></div><div class=\"sk-container\" hidden><div class=\"sk-item\"><div class=\"sk-estimator fitted sk-toggleable\"><input class=\"sk-toggleable__control sk-hidden--visually\" id=\"sk-estimator-id-3\" type=\"checkbox\" checked><label for=\"sk-estimator-id-3\" class=\"sk-toggleable__label fitted sk-toggleable__label-arrow fitted\">&nbsp;&nbsp;RandomForestClassifier<a class=\"sk-estimator-doc-link fitted\" rel=\"noreferrer\" target=\"_blank\" href=\"https://scikit-learn.org/1.4/modules/generated/sklearn.ensemble.RandomForestClassifier.html\">?<span>Documentation for RandomForestClassifier</span></a><span class=\"sk-estimator-doc-link fitted\">i<span>Fitted</span></span></label><div class=\"sk-toggleable__content fitted\"><pre>RandomForestClassifier()</pre></div> </div></div></div></div>"
            ],
            "text/plain": [
              "RandomForestClassifier()"
            ]
          },
          "execution_count": 76,
          "metadata": {},
          "output_type": "execute_result"
        }
      ],
      "source": [
        "from sklearn.ensemble import RandomForestClassifier\n",
        "classifier = RandomForestClassifier()\n",
        "classifier.fit(X_train, y_train)\n",
        "\n",
        "# from xgboost import XGBClassifier\n",
        "# classifier = XGBClassifier(objective=\"multi:softmax\", num_class=3)\n",
        "# classifier.fit(X_train, y_train)"
      ]
    },
    {
      "cell_type": "markdown",
      "metadata": {
        "id": "Q1EvKwGHZ1_I"
      },
      "source": [
        "### Prediction and classification"
      ]
    },
    {
      "cell_type": "code",
      "execution_count": 77,
      "metadata": {
        "colab": {
          "base_uri": "https://localhost:8080/"
        },
        "id": "omd3eebyZ69U",
        "outputId": "14abe8e2-875b-43c7-ea38-a9766d4e4aad"
      },
      "outputs": [
        {
          "name": "stdout",
          "output_type": "stream",
          "text": [
            "[[2 0 0 0 0 0 0]\n",
            " [0 3 0 0 0 0 0]\n",
            " [0 0 1 0 0 0 0]\n",
            " [0 0 0 9 0 0 0]\n",
            " [0 0 0 0 1 0 0]\n",
            " [0 0 0 0 0 3 0]\n",
            " [0 0 0 0 0 1 0]]\n"
          ]
        },
        {
          "data": {
            "text/plain": [
              "0.95"
            ]
          },
          "execution_count": 77,
          "metadata": {},
          "output_type": "execute_result"
        }
      ],
      "source": [
        "from sklearn.metrics import confusion_matrix, accuracy_score\n",
        "y_pred = classifier.predict(X_test)\n",
        "cm = confusion_matrix(y_test, y_pred)\n",
        "print(cm)\n",
        "accuracy_score(y_test, y_pred)"
      ]
    },
    {
      "cell_type": "markdown",
      "metadata": {
        "id": "f8XhoDXZcHAh"
      },
      "source": [
        "As above show the accuraccy is above 80% (for my data of course). No bad. In the future will use different models to see if there is an improvement in accuracy"
      ]
    },
    {
      "cell_type": "markdown",
      "metadata": {
        "id": "lOCzGxRhaIgQ"
      },
      "source": [
        "### Applying the model"
      ]
    },
    {
      "cell_type": "code",
      "execution_count": 78,
      "metadata": {
        "colab": {
          "base_uri": "https://localhost:8080/"
        },
        "id": "SdScsbsjaPdA",
        "outputId": "096757a2-1245-4d86-9667-c66e21492db4"
      },
      "outputs": [
        {
          "name": "stdout",
          "output_type": "stream",
          "text": [
            "             Transaction\n",
            "89            ANNUAL FEE\n",
            "90  MANULIFE         MSP\n",
            "91  MANULIFE         MSP\n",
            "92  ENBRIDGE GAS H6Z9A7 \n",
            "93  ENBRIDGE GAS J7W3W7 \n"
          ]
        }
      ],
      "source": [
        "# I remove the Date, amount columns for privacy. Don't do that with real data\n",
        "dataset_result = pd.read_csv(OUTPUT_FILE)\n",
        "\n",
        "# removing 'Category' column if exist. It will be added later by the prediction ...\n",
        "if CATEGORY_COLUMN in dataset_result.columns:\n",
        "    dataset_result.drop(columns=[CATEGORY_COLUMN], inplace=True)\n",
        "\n",
        "dataset_result = dataset_result.dropna()\n",
        "print(dataset_result.tail())"
      ]
    },
    {
      "cell_type": "markdown",
      "metadata": {
        "id": "cCRwNgwNbMr9"
      },
      "source": [
        "Notice above output showing that there is only one column 'Transaction' (Remove 'Category' column if exist).\n",
        "We are going to add a new column 'Category' that the model is going set the value"
      ]
    },
    {
      "cell_type": "code",
      "execution_count": 79,
      "metadata": {
        "id": "WVFONezRakuI"
      },
      "outputs": [],
      "source": [
        "# vectorize the data\n",
        "features = vectorizer.transform(dataset_result[TRANSACTION_COLUMN])\n",
        "\n",
        "# apply model to get predictions ...\n",
        "predictions = classifier.predict(features)\n",
        "\n",
        "# convert output labels to new 'Category' column\n",
        "dataset_result[CATEGORY_COLUMN] = label_encoder.inverse_transform(predictions)\n",
        "\n",
        "dataset_result.to_csv(OUTPUT_FILE, index=False)"
      ]
    },
    {
      "cell_type": "markdown",
      "metadata": {},
      "source": [
        "### Final result ..."
      ]
    },
    {
      "cell_type": "code",
      "execution_count": 80,
      "metadata": {},
      "outputs": [
        {
          "name": "stdout",
          "output_type": "stream",
          "text": [
            "             Transaction        Category\n",
            "89            ANNUAL FEE        BANK FEE\n",
            "90  MANULIFE         MSP  Life Insurance\n",
            "91  MANULIFE         MSP  Life Insurance\n",
            "92  ENBRIDGE GAS H6Z9A7          Utility\n",
            "93  ENBRIDGE GAS J7W3W7          Utility\n"
          ]
        }
      ],
      "source": [
        "print(dataset_result.tail())"
      ]
    },
    {
      "cell_type": "markdown",
      "metadata": {
        "id": "TqA-Al9yvWFN"
      },
      "source": [
        "### The resulting file summary_result.csv is bang on. No more manual creation of Category. Teach the computer to do it for you."
      ]
    },
    {
      "cell_type": "markdown",
      "metadata": {},
      "source": [
        "### Enjoy Machine Learning"
      ]
    }
  ],
  "metadata": {
    "colab": {
      "provenance": []
    },
    "kernelspec": {
      "display_name": "Python 3",
      "name": "python3"
    },
    "language_info": {
      "codemirror_mode": {
        "name": "ipython",
        "version": 3
      },
      "file_extension": ".py",
      "mimetype": "text/x-python",
      "name": "python",
      "nbconvert_exporter": "python",
      "pygments_lexer": "ipython3",
      "version": "3.9.14"
    }
  },
  "nbformat": 4,
  "nbformat_minor": 0
}
